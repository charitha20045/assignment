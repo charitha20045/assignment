{
  "nbformat": 4,
  "nbformat_minor": 0,
  "metadata": {
    "colab": {
      "provenance": []
    },
    "kernelspec": {
      "name": "python3",
      "display_name": "Python 3"
    },
    "language_info": {
      "name": "python"
    }
  },
  "cells": [
    {
      "cell_type": "code",
      "execution_count": null,
      "metadata": {
        "id": "cwS8eF75I40w",
        "outputId": "926759c5-3d11-4732-fcea-924069cce554",
        "colab": {
          "base_uri": "https://localhost:8080/"
        }
      },
      "outputs": [
        {
          "output_type": "stream",
          "name": "stdout",
          "text": [
            "List after adding an element: [10, 20, 30, 40, 50, 60]\n",
            "List after removing an element: [10, 20, 40, 50, 60]\n",
            "List after modifying an element: [10, 20, 100, 50, 60]\n",
            "Dictionary after adding a key-value pair: {'x': 10, 'y': 20, 'z': 30, 'w': 40}\n",
            "Dictionary after removing a key-value pair: {'x': 10, 'z': 30, 'w': 40}\n",
            "Dictionary after modifying a value: {'x': 100, 'z': 30, 'w': 40}\n",
            "Set after adding an element: {50, 20, 40, 10, 60, 30}\n",
            "Set after removing an element: {50, 20, 40, 10, 60}\n"
          ]
        }
      ],
      "source": [
        "# List Operations\n",
        "my_list = [10, 20, 30, 40, 50]\n",
        "\n",
        "# Adding an element\n",
        "my_list.append(60)\n",
        "print(\"List after adding an element:\", my_list)\n",
        "\n",
        "# Removing an element\n",
        "my_list.remove(30)\n",
        "print(\"List after removing an element:\", my_list)\n",
        "\n",
        "# Modifying an element\n",
        "my_list[2] = 100\n",
        "print(\"List after modifying an element:\", my_list)\n",
        "\n",
        "\n",
        "# Dictionary Operations\n",
        "my_dict = {'x': 10, 'y': 20, 'z': 30}\n",
        "\n",
        "# Adding a key-value pair\n",
        "my_dict['w'] = 40\n",
        "print(\"Dictionary after adding a key-value pair:\", my_dict)\n",
        "\n",
        "# Removing a key-value pair\n",
        "del my_dict['y']\n",
        "print(\"Dictionary after removing a key-value pair:\", my_dict)\n",
        "\n",
        "# Modifying a value\n",
        "my_dict['x'] = 100\n",
        "print(\"Dictionary after modifying a value:\", my_dict)\n",
        "\n",
        "\n",
        "# creating a set\n",
        "my_set = {10, 20, 30, 40, 50}\n",
        "\n",
        "# Adding an element\n",
        "my_set.add(60)\n",
        "print(\"Set after adding an element:\", my_set)\n",
        "\n",
        "# Removing an element\n",
        "my_set.remove(30)\n",
        "print(\"Set after removing an element:\", my_set)"
      ]
    }
  ]
}